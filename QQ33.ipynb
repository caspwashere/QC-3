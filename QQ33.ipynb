{
 "nbformat": 4,
 "nbformat_minor": 0,
 "metadata": {
  "colab": {
   "provenance": [],
   "machine_shape": "hm"
  },
  "kernelspec": {
   "name": "python3",
   "display_name": "Python 3 (ipykernel)",
   "language": "python"
  },
  "language_info": {
   "name": "python"
  }
 },
 "cells": [
  {
   "cell_type": "markdown",
   "source": [
    "# Assignment 3"
   ],
   "metadata": {
    "id": "C33o0wfhwQ1k"
   }
  },
  {
   "cell_type": "markdown",
   "source": [
    "## Install dependencies"
   ],
   "metadata": {
    "id": "kvBfpNVZwT6b"
   }
  },
  {
   "cell_type": "code",
   "source": [
    "%pip install numpy matplotlib pandas seaborn scikit-learn pennylane"
   ],
   "metadata": {
    "colab": {
     "base_uri": "https://localhost:8080/"
    },
    "id": "7fens-_7gbkX",
    "outputId": "c2716ea8-0912-4490-c774-8653dc1e349a",
    "ExecuteTime": {
     "end_time": "2024-11-08T09:21:44.655959Z",
     "start_time": "2024-11-08T09:21:42.109803Z"
    }
   },
   "outputs": [
    {
     "name": "stdout",
     "output_type": "stream",
     "text": [
      "/bin/bash: warning: setlocale: LC_ALL: cannot change locale (en_US.UTF-8)\r\n",
      "Defaulting to user installation because normal site-packages is not writeable\r\n",
      "Requirement already satisfied: numpy in /home/24700746/.local/lib/python3.10/site-packages (1.24.4)\r\n",
      "Requirement already satisfied: matplotlib in /home/24700746/.local/lib/python3.10/site-packages (3.9.2)\r\n",
      "Requirement already satisfied: pandas in /home/24700746/.local/lib/python3.10/site-packages (2.0.3)\r\n",
      "Requirement already satisfied: seaborn in /home/24700746/.local/lib/python3.10/site-packages (0.13.2)\r\n",
      "Requirement already satisfied: scikit-learn in /home/24700746/.local/lib/python3.10/site-packages (1.5.2)\r\n",
      "Requirement already satisfied: pennylane in /home/24700746/.local/lib/python3.10/site-packages (0.38.0)\r\n",
      "Requirement already satisfied: kiwisolver>=1.3.1 in /home/24700746/.local/lib/python3.10/site-packages (from matplotlib) (1.4.7)\r\n",
      "Requirement already satisfied: pyparsing>=2.3.1 in /usr/lib/python3/dist-packages (from matplotlib) (2.4.7)\r\n",
      "Requirement already satisfied: cycler>=0.10 in /home/24700746/.local/lib/python3.10/site-packages (from matplotlib) (0.12.1)\r\n",
      "Requirement already satisfied: contourpy>=1.0.1 in /home/24700746/.local/lib/python3.10/site-packages (from matplotlib) (1.3.0)\r\n",
      "Requirement already satisfied: pillow>=8 in /usr/lib/python3/dist-packages (from matplotlib) (9.0.1)\r\n",
      "Requirement already satisfied: python-dateutil>=2.7 in /home/24700746/.local/lib/python3.10/site-packages (from matplotlib) (2.9.0.post0)\r\n",
      "Requirement already satisfied: fonttools>=4.22.0 in /home/24700746/.local/lib/python3.10/site-packages (from matplotlib) (4.54.1)\r\n",
      "Requirement already satisfied: packaging>=20.0 in /home/24700746/.local/lib/python3.10/site-packages (from matplotlib) (24.1)\r\n",
      "Requirement already satisfied: tzdata>=2022.1 in /home/24700746/.local/lib/python3.10/site-packages (from pandas) (2024.2)\r\n",
      "Requirement already satisfied: pytz>=2020.1 in /home/24700746/.local/lib/python3.10/site-packages (from pandas) (2024.2)\r\n",
      "Requirement already satisfied: threadpoolctl>=3.1.0 in /home/24700746/.local/lib/python3.10/site-packages (from scikit-learn) (3.5.0)\r\n",
      "Requirement already satisfied: joblib>=1.2.0 in /home/24700746/.local/lib/python3.10/site-packages (from scikit-learn) (1.4.2)\r\n",
      "Requirement already satisfied: scipy>=1.6.0 in /home/24700746/.local/lib/python3.10/site-packages (from scikit-learn) (1.14.1)\r\n",
      "Requirement already satisfied: pennylane-lightning>=0.38 in /home/24700746/.local/lib/python3.10/site-packages (from pennylane) (0.38.0)\r\n",
      "Requirement already satisfied: requests in /home/24700746/.local/lib/python3.10/site-packages (from pennylane) (2.32.3)\r\n",
      "Requirement already satisfied: typing-extensions in /home/24700746/.local/lib/python3.10/site-packages (from pennylane) (4.12.2)\r\n",
      "Requirement already satisfied: cachetools in /home/24700746/.local/lib/python3.10/site-packages (from pennylane) (5.5.0)\r\n",
      "Requirement already satisfied: rustworkx>=0.14.0 in /home/24700746/.local/lib/python3.10/site-packages (from pennylane) (0.15.1)\r\n",
      "Requirement already satisfied: networkx in /home/24700746/.local/lib/python3.10/site-packages (from pennylane) (3.4.1)\r\n",
      "Requirement already satisfied: autoray>=0.6.11 in /home/24700746/.local/lib/python3.10/site-packages (from pennylane) (0.6.12)\r\n",
      "Requirement already satisfied: autograd in /home/24700746/.local/lib/python3.10/site-packages (from pennylane) (1.7.0)\r\n",
      "Requirement already satisfied: appdirs in /home/24700746/.local/lib/python3.10/site-packages (from pennylane) (1.4.4)\r\n",
      "Requirement already satisfied: toml in /home/24700746/.local/lib/python3.10/site-packages (from pennylane) (0.10.2)\r\n",
      "Requirement already satisfied: six>=1.5 in /usr/lib/python3/dist-packages (from python-dateutil>=2.7->matplotlib) (1.16.0)\r\n",
      "Requirement already satisfied: idna<4,>=2.5 in /usr/local/lib/python3.10/dist-packages (from requests->pennylane) (3.10)\r\n",
      "Requirement already satisfied: certifi>=2017.4.17 in /usr/local/lib/python3.10/dist-packages (from requests->pennylane) (2024.8.30)\r\n",
      "Requirement already satisfied: urllib3<3,>=1.21.1 in /home/24700746/.local/lib/python3.10/site-packages (from requests->pennylane) (1.26.20)\r\n",
      "Requirement already satisfied: charset-normalizer<4,>=2 in /usr/local/lib/python3.10/dist-packages (from requests->pennylane) (3.3.2)\r\n",
      "Note: you may need to restart the kernel to use updated packages.\n"
     ]
    }
   ],
   "execution_count": 17
  },
  {
   "cell_type": "markdown",
   "source": [
    "## Imports"
   ],
   "metadata": {
    "id": "vfMpmsHJwcgg"
   }
  },
  {
   "cell_type": "code",
   "metadata": {
    "id": "P-5LfHmefuA7",
    "ExecuteTime": {
     "end_time": "2024-11-08T09:21:44.665276Z",
     "start_time": "2024-11-08T09:21:44.660799Z"
    }
   },
   "source": [
    "import pandas as pd\n",
    "from sklearn.preprocessing import LabelEncoder, StandardScaler\n",
    "from sklearn.model_selection import train_test_split\n",
    "from sklearn.svm import SVC\n",
    "from sklearn.metrics import accuracy_score, confusion_matrix\n",
    "import pennylane as qml\n",
    "from pennylane import numpy as np\n",
    "from pennylane.templates import AngleEmbedding\n",
    "import matplotlib.pyplot as plt\n",
    "import seaborn as sns\n",
    "from pennylane import draw\n",
    "from joblib import Parallel, delayed\n",
    "import time"
   ],
   "outputs": [],
   "execution_count": 18
  },
  {
   "cell_type": "markdown",
   "source": [
    "## Data Preprocessing"
   ],
   "metadata": {
    "id": "dR60zN_Bwexv"
   }
  },
  {
   "cell_type": "code",
   "source": [
    "# Load Dataset\n",
    "dataset = pd.read_csv('soil_fertility.csv')\n",
    "print(\"Dataset shape:\", dataset.shape)\n",
    "display(dataset.head())"
   ],
   "metadata": {
    "colab": {
     "base_uri": "https://localhost:8080/",
     "height": 244
    },
    "id": "P8hjU2sPhAq5",
    "outputId": "f71c9e26-ecce-47dd-ac09-8874576dde61",
    "ExecuteTime": {
     "end_time": "2024-11-08T09:21:44.757367Z",
     "start_time": "2024-11-08T09:21:44.719822Z"
    }
   },
   "outputs": [
    {
     "name": "stdout",
     "output_type": "stream",
     "text": [
      "Dataset shape: (880, 13)\n"
     ]
    },
    {
     "data": {
      "text/plain": [
       "     N    P    K    pH    EC    OC     S    Zn    Fe    Cu    Mn     B  Output\n",
       "0  138  8.6  560  7.46  0.62  0.70   5.9  0.24  0.31  0.77  8.71  0.11       0\n",
       "1  213  7.5  338  7.62  0.75  1.06  25.4  0.30  0.86  1.54  2.89  2.29       0\n",
       "2  163  9.6  718  7.59  0.51  1.11  14.3  0.30  0.86  1.57  2.70  2.03       0\n",
       "3  157  6.8  475  7.64  0.58  0.94  26.0  0.34  0.54  1.53  2.65  1.82       0\n",
       "4  270  9.9  444  7.63  0.40  0.86  11.8  0.25  0.76  1.69  2.43  2.26       1"
      ],
      "text/html": [
       "<div>\n",
       "<style scoped>\n",
       "    .dataframe tbody tr th:only-of-type {\n",
       "        vertical-align: middle;\n",
       "    }\n",
       "\n",
       "    .dataframe tbody tr th {\n",
       "        vertical-align: top;\n",
       "    }\n",
       "\n",
       "    .dataframe thead th {\n",
       "        text-align: right;\n",
       "    }\n",
       "</style>\n",
       "<table border=\"1\" class=\"dataframe\">\n",
       "  <thead>\n",
       "    <tr style=\"text-align: right;\">\n",
       "      <th></th>\n",
       "      <th>N</th>\n",
       "      <th>P</th>\n",
       "      <th>K</th>\n",
       "      <th>pH</th>\n",
       "      <th>EC</th>\n",
       "      <th>OC</th>\n",
       "      <th>S</th>\n",
       "      <th>Zn</th>\n",
       "      <th>Fe</th>\n",
       "      <th>Cu</th>\n",
       "      <th>Mn</th>\n",
       "      <th>B</th>\n",
       "      <th>Output</th>\n",
       "    </tr>\n",
       "  </thead>\n",
       "  <tbody>\n",
       "    <tr>\n",
       "      <th>0</th>\n",
       "      <td>138</td>\n",
       "      <td>8.6</td>\n",
       "      <td>560</td>\n",
       "      <td>7.46</td>\n",
       "      <td>0.62</td>\n",
       "      <td>0.70</td>\n",
       "      <td>5.9</td>\n",
       "      <td>0.24</td>\n",
       "      <td>0.31</td>\n",
       "      <td>0.77</td>\n",
       "      <td>8.71</td>\n",
       "      <td>0.11</td>\n",
       "      <td>0</td>\n",
       "    </tr>\n",
       "    <tr>\n",
       "      <th>1</th>\n",
       "      <td>213</td>\n",
       "      <td>7.5</td>\n",
       "      <td>338</td>\n",
       "      <td>7.62</td>\n",
       "      <td>0.75</td>\n",
       "      <td>1.06</td>\n",
       "      <td>25.4</td>\n",
       "      <td>0.30</td>\n",
       "      <td>0.86</td>\n",
       "      <td>1.54</td>\n",
       "      <td>2.89</td>\n",
       "      <td>2.29</td>\n",
       "      <td>0</td>\n",
       "    </tr>\n",
       "    <tr>\n",
       "      <th>2</th>\n",
       "      <td>163</td>\n",
       "      <td>9.6</td>\n",
       "      <td>718</td>\n",
       "      <td>7.59</td>\n",
       "      <td>0.51</td>\n",
       "      <td>1.11</td>\n",
       "      <td>14.3</td>\n",
       "      <td>0.30</td>\n",
       "      <td>0.86</td>\n",
       "      <td>1.57</td>\n",
       "      <td>2.70</td>\n",
       "      <td>2.03</td>\n",
       "      <td>0</td>\n",
       "    </tr>\n",
       "    <tr>\n",
       "      <th>3</th>\n",
       "      <td>157</td>\n",
       "      <td>6.8</td>\n",
       "      <td>475</td>\n",
       "      <td>7.64</td>\n",
       "      <td>0.58</td>\n",
       "      <td>0.94</td>\n",
       "      <td>26.0</td>\n",
       "      <td>0.34</td>\n",
       "      <td>0.54</td>\n",
       "      <td>1.53</td>\n",
       "      <td>2.65</td>\n",
       "      <td>1.82</td>\n",
       "      <td>0</td>\n",
       "    </tr>\n",
       "    <tr>\n",
       "      <th>4</th>\n",
       "      <td>270</td>\n",
       "      <td>9.9</td>\n",
       "      <td>444</td>\n",
       "      <td>7.63</td>\n",
       "      <td>0.40</td>\n",
       "      <td>0.86</td>\n",
       "      <td>11.8</td>\n",
       "      <td>0.25</td>\n",
       "      <td>0.76</td>\n",
       "      <td>1.69</td>\n",
       "      <td>2.43</td>\n",
       "      <td>2.26</td>\n",
       "      <td>1</td>\n",
       "    </tr>\n",
       "  </tbody>\n",
       "</table>\n",
       "</div>"
      ]
     },
     "metadata": {},
     "output_type": "display_data"
    }
   ],
   "execution_count": 19
  },
  {
   "cell_type": "code",
   "source": [
    "le = LabelEncoder()\n",
    "dataset['Output'] = le.fit_transform(dataset['Output'])\n",
    "display(dataset.head())"
   ],
   "metadata": {
    "colab": {
     "base_uri": "https://localhost:8080/",
     "height": 226
    },
    "id": "qza206hyhLBA",
    "outputId": "4d9b04c0-5d34-4bf8-fd53-a09e9b4ced10",
    "ExecuteTime": {
     "end_time": "2024-11-08T09:21:44.860293Z",
     "start_time": "2024-11-08T09:21:44.835412Z"
    }
   },
   "outputs": [
    {
     "data": {
      "text/plain": [
       "     N    P    K    pH    EC    OC     S    Zn    Fe    Cu    Mn     B  Output\n",
       "0  138  8.6  560  7.46  0.62  0.70   5.9  0.24  0.31  0.77  8.71  0.11       0\n",
       "1  213  7.5  338  7.62  0.75  1.06  25.4  0.30  0.86  1.54  2.89  2.29       0\n",
       "2  163  9.6  718  7.59  0.51  1.11  14.3  0.30  0.86  1.57  2.70  2.03       0\n",
       "3  157  6.8  475  7.64  0.58  0.94  26.0  0.34  0.54  1.53  2.65  1.82       0\n",
       "4  270  9.9  444  7.63  0.40  0.86  11.8  0.25  0.76  1.69  2.43  2.26       1"
      ],
      "text/html": [
       "<div>\n",
       "<style scoped>\n",
       "    .dataframe tbody tr th:only-of-type {\n",
       "        vertical-align: middle;\n",
       "    }\n",
       "\n",
       "    .dataframe tbody tr th {\n",
       "        vertical-align: top;\n",
       "    }\n",
       "\n",
       "    .dataframe thead th {\n",
       "        text-align: right;\n",
       "    }\n",
       "</style>\n",
       "<table border=\"1\" class=\"dataframe\">\n",
       "  <thead>\n",
       "    <tr style=\"text-align: right;\">\n",
       "      <th></th>\n",
       "      <th>N</th>\n",
       "      <th>P</th>\n",
       "      <th>K</th>\n",
       "      <th>pH</th>\n",
       "      <th>EC</th>\n",
       "      <th>OC</th>\n",
       "      <th>S</th>\n",
       "      <th>Zn</th>\n",
       "      <th>Fe</th>\n",
       "      <th>Cu</th>\n",
       "      <th>Mn</th>\n",
       "      <th>B</th>\n",
       "      <th>Output</th>\n",
       "    </tr>\n",
       "  </thead>\n",
       "  <tbody>\n",
       "    <tr>\n",
       "      <th>0</th>\n",
       "      <td>138</td>\n",
       "      <td>8.6</td>\n",
       "      <td>560</td>\n",
       "      <td>7.46</td>\n",
       "      <td>0.62</td>\n",
       "      <td>0.70</td>\n",
       "      <td>5.9</td>\n",
       "      <td>0.24</td>\n",
       "      <td>0.31</td>\n",
       "      <td>0.77</td>\n",
       "      <td>8.71</td>\n",
       "      <td>0.11</td>\n",
       "      <td>0</td>\n",
       "    </tr>\n",
       "    <tr>\n",
       "      <th>1</th>\n",
       "      <td>213</td>\n",
       "      <td>7.5</td>\n",
       "      <td>338</td>\n",
       "      <td>7.62</td>\n",
       "      <td>0.75</td>\n",
       "      <td>1.06</td>\n",
       "      <td>25.4</td>\n",
       "      <td>0.30</td>\n",
       "      <td>0.86</td>\n",
       "      <td>1.54</td>\n",
       "      <td>2.89</td>\n",
       "      <td>2.29</td>\n",
       "      <td>0</td>\n",
       "    </tr>\n",
       "    <tr>\n",
       "      <th>2</th>\n",
       "      <td>163</td>\n",
       "      <td>9.6</td>\n",
       "      <td>718</td>\n",
       "      <td>7.59</td>\n",
       "      <td>0.51</td>\n",
       "      <td>1.11</td>\n",
       "      <td>14.3</td>\n",
       "      <td>0.30</td>\n",
       "      <td>0.86</td>\n",
       "      <td>1.57</td>\n",
       "      <td>2.70</td>\n",
       "      <td>2.03</td>\n",
       "      <td>0</td>\n",
       "    </tr>\n",
       "    <tr>\n",
       "      <th>3</th>\n",
       "      <td>157</td>\n",
       "      <td>6.8</td>\n",
       "      <td>475</td>\n",
       "      <td>7.64</td>\n",
       "      <td>0.58</td>\n",
       "      <td>0.94</td>\n",
       "      <td>26.0</td>\n",
       "      <td>0.34</td>\n",
       "      <td>0.54</td>\n",
       "      <td>1.53</td>\n",
       "      <td>2.65</td>\n",
       "      <td>1.82</td>\n",
       "      <td>0</td>\n",
       "    </tr>\n",
       "    <tr>\n",
       "      <th>4</th>\n",
       "      <td>270</td>\n",
       "      <td>9.9</td>\n",
       "      <td>444</td>\n",
       "      <td>7.63</td>\n",
       "      <td>0.40</td>\n",
       "      <td>0.86</td>\n",
       "      <td>11.8</td>\n",
       "      <td>0.25</td>\n",
       "      <td>0.76</td>\n",
       "      <td>1.69</td>\n",
       "      <td>2.43</td>\n",
       "      <td>2.26</td>\n",
       "      <td>1</td>\n",
       "    </tr>\n",
       "  </tbody>\n",
       "</table>\n",
       "</div>"
      ]
     },
     "metadata": {},
     "output_type": "display_data"
    }
   ],
   "execution_count": 20
  },
  {
   "cell_type": "code",
   "source": [
    "# Visualize Correlation Heatmap\n",
    "plt.figure(figsize=(6, 6))\n",
    "corr = dataset.corr()\n",
    "sns.heatmap(corr, cmap=sns.diverging_palette(220, 20, as_cmap=True), vmin=-1.0, vmax=1.0, square=True)\n",
    "plt.show()"
   ],
   "metadata": {
    "colab": {
     "base_uri": "https://localhost:8080/",
     "height": 537
    },
    "id": "4RusvRWOhROn",
    "outputId": "3f3394d5-eccd-41b8-e43c-77888a36ed48",
    "ExecuteTime": {
     "end_time": "2024-11-08T09:21:45.440027Z",
     "start_time": "2024-11-08T09:21:45.000393Z"
    }
   },
   "outputs": [
    {
     "data": {
      "text/plain": [
       "<Figure size 600x600 with 2 Axes>"
      ],
      "image/png": "[encoded data removed]"
     },
     "metadata": {},
     "output_type": "display_data"
    }
   ],
   "execution_count": 21
  },
  {
   "cell_type": "code",
   "source": [
    "# Feature Selection\n",
    "labels = dataset[['Output']]\n",
    "features = dataset.drop(['Output', 'EC', 'OC', 'S', 'Zn', 'Fe', 'Cu', 'Mn', 'B'], axis=1)"
   ],
   "metadata": {
    "id": "Wsl4epcQhV0Q",
    "ExecuteTime": {
     "end_time": "2024-11-08T09:21:45.495245Z",
     "start_time": "2024-11-08T09:21:45.490432Z"
    }
   },
   "outputs": [],
   "execution_count": 22
  },
  {
   "cell_type": "code",
   "source": [
    "# Plot histograms for each feature\n",
    "features.hist(bins=30, figsize=(15, 10), grid=False)\n",
    "plt.tight_layout()\n",
    "plt.show()"
   ],
   "metadata": {
    "colab": {
     "base_uri": "https://localhost:8080/",
     "height": 1000
    },
    "id": "LpaBBUJLvS4Q",
    "outputId": "1e9272e1-3fc8-4cab-b459-59cff7798f83",
    "ExecuteTime": {
     "end_time": "2024-11-08T09:21:46.620066Z",
     "start_time": "2024-11-08T09:21:45.543349Z"
    }
   },
   "outputs": [
    {
     "data": {
      "text/plain": [
       "<Figure size 1500x1000 with 4 Axes>"
      ],
      "image/png": "[encoded data removed]"
     },
     "metadata": {},
     "output_type": "display_data"
    }
   ],
   "execution_count": 23
  },
  {
   "cell_type": "code",
   "source": [
    "# Standard Scaling\n",
    "scaler = StandardScaler()\n",
    "features_scaled = scaler.fit_transform(features)"
   ],
   "metadata": {
    "id": "aziJDXnQvQ7t",
    "ExecuteTime": {
     "end_time": "2024-11-08T09:21:46.684377Z",
     "start_time": "2024-11-08T09:21:46.674747Z"
    }
   },
   "outputs": [],
   "execution_count": 24
  },
  {
   "cell_type": "code",
   "source": [
    "# Split Data\n",
    "X_train, X_test, y_train, y_test = train_test_split(features_scaled, labels, test_size=0.2, random_state=42)"
   ],
   "metadata": {
    "id": "FhMWQlDFhePI",
    "ExecuteTime": {
     "end_time": "2024-11-08T09:21:46.800269Z",
     "start_time": "2024-11-08T09:21:46.788684Z"
    }
   },
   "outputs": [],
   "execution_count": 25
  },
  {
   "cell_type": "markdown",
   "source": [
    "## Classic SVM Model"
   ],
   "metadata": {
    "id": "Llr45ASKwqeh"
   }
  },
  {
   "cell_type": "code",
   "source": [
    "svc_clf = SVC()\n",
    "svc_clf.fit(X_train, y_train)\n",
    "pred = svc_clf.predict(X_test)\n",
    "print(f\"SVC Accuracy: {accuracy_score(y_test, pred):.2f}\")\n",
    "print(confusion_matrix(y_test, pred))"
   ],
   "metadata": {
    "colab": {
     "base_uri": "https://localhost:8080/"
    },
    "id": "JQ2aAWcwhiIW",
    "outputId": "34febf9e-8ac9-4989-c740-268e401ec4af",
    "ExecuteTime": {
     "end_time": "2024-11-08T09:21:46.891617Z",
     "start_time": "2024-11-08T09:21:46.868807Z"
    }
   },
   "outputs": [
    {
     "name": "stdout",
     "output_type": "stream",
     "text": [
      "SVC Accuracy: 0.84\n",
      "[[69  9  0]\n",
      " [ 9 79  0]\n",
      " [ 0 10  0]]\n"
     ]
    },
    {
     "name": "stderr",
     "output_type": "stream",
     "text": [
      "/home/24700746/.local/lib/python3.10/site-packages/sklearn/utils/validation.py:1339: DataConversionWarning: A column-vector y was passed when a 1d array was expected. Please change the shape of y to (n_samples, ), for example using ravel().\n",
      "  y = column_or_1d(y, warn=True)\n"
     ]
    }
   ],
   "execution_count": 26
  },
  {
   "cell_type": "markdown",
   "source": [
    "## Quantum SVM"
   ],
   "metadata": {
    "id": "TUeWPxM0yBQX"
   }
  },
  {
   "cell_type": "markdown",
   "source": [
    "### Quantum Kernel"
   ],
   "metadata": {
    "id": "phoIQkET0ZNI"
   }
  },
  {
   "cell_type": "code",
   "source": [
    "n_qubits = len(X_train[0])\n",
    "\n",
    "dev_kernel = qml.device(\"default.qubit\", wires=n_qubits)\n",
    "\n",
    "projector = np.zeros((2 ** n_qubits, 2 ** n_qubits))\n",
    "projector[0, 0] = 1\n",
    "\n",
    "@qml.qnode(dev_kernel)\n",
    "def kernel(x1, x2):\n",
    "    \"\"\"The quantum kernel.\"\"\"\n",
    "    AngleEmbedding(x1, wires=range(n_qubits))\n",
    "    qml.adjoint(AngleEmbedding)(x2, wires=range(n_qubits))\n",
    "    return qml.expval(qml.Hermitian(projector, wires=range(n_qubits)))\n",
    "\n",
    "def kernel_matrix(A, B):\n",
    "    start_time = time.time()\n",
    "    kernel_values = np.array([[kernel(a, b) for b in B] for a in A])\n",
    "    end_time = time.time()\n",
    "    elapsed_time = end_time - start_time\n",
    "    print(f\"Kernel matrix computation took {elapsed_time:.2f} seconds.\")\n",
    "\n",
    "    return kernel_values\n",
    "\n",
    "# Draw the circuit\n",
    "fig, ax = qml.draw_mpl(kernel, decimals=2, wire_order=range(n_qubits), show_all_wires=True)(X_train[0], X_train[1])\n",
    "plt.show()\n"
   ],
   "metadata": {
    "colab": {
     "base_uri": "https://localhost:8080/",
     "height": 556
    },
    "id": "eAtL4oRIyHhP",
    "outputId": "84d030ec-ea78-49dc-ec65-4ee50611f7ee",
    "ExecuteTime": {
     "end_time": "2024-11-08T09:21:47.288998Z",
     "start_time": "2024-11-08T09:21:47.174409Z"
    }
   },
   "outputs": [
    {
     "data": {
      "text/plain": [
       "<Figure size 500x500 with 1 Axes>"
      ],
      "image/png": "[encoded data removed]"
     },
     "metadata": {},
     "output_type": "display_data"
    }
   ],
   "execution_count": 27
  },
  {
   "cell_type": "markdown",
   "source": [
    "### Train"
   ],
   "metadata": {
    "id": "3Jzf9KJjzvZP"
   }
  },
  {
   "cell_type": "code",
   "source": [
    "precomputed_kernel = kernel_matrix(X_train, X_train)\n",
    "svm = SVC(kernel='precomputed').fit(precomputed_kernel, y_train)"
   ],
   "metadata": {
    "colab": {
     "base_uri": "https://localhost:8080/"
    },
    "id": "Jpzj4FHrzu-H",
    "outputId": "4d006c9f-bb3b-4320-b841-19577dd112b8",
    "ExecuteTime": {
     "end_time": "2024-11-08T09:44:59.141827Z",
     "start_time": "2024-11-08T09:21:47.309283Z"
    }
   },
   "outputs": [
    {
     "name": "stdout",
     "output_type": "stream",
     "text": [
      "Kernel matrix computation took 1391.82 seconds.\n"
     ]
    },
    {
     "name": "stderr",
     "output_type": "stream",
     "text": [
      "/home/24700746/.local/lib/python3.10/site-packages/sklearn/utils/validation.py:1339: DataConversionWarning: A column-vector y was passed when a 1d array was expected. Please change the shape of y to (n_samples, ), for example using ravel().\n",
      "  y = column_or_1d(y, warn=True)\n"
     ]
    }
   ],
   "execution_count": 28
  },
  {
   "cell_type": "markdown",
   "source": [
    "### Test"
   ],
   "metadata": {
    "id": "etWI-dTJ0Urz"
   }
  },
  {
   "cell_type": "code",
   "source": [
    "kernel_matrix_test = kernel_matrix(X_test, X_train)\n",
    "predictions = svm.predict(kernel_matrix_test)\n",
    "print(y_train.shape)\n",
    "print(y_test.shape)\n",
    "model_acc = accuracy_score(y_test, predictions)\n",
    "print(f\"Quantum SVM Accuracy: {model_acc:.2f}\")\n",
    "print(confusion_matrix(y_test, predictions))\n"
   ],
   "metadata": {
    "colab": {
     "base_uri": "https://localhost:8080/"
    },
    "id": "GG4LRkRJz3dW",
    "outputId": "a3c1a916-7ae5-4125-d6ef-8aa56234fca1",
    "ExecuteTime": {
     "end_time": "2024-11-08T09:50:41.449102Z",
     "start_time": "2024-11-08T09:44:59.245974Z"
    }
   },
   "outputs": [
    {
     "name": "stdout",
     "output_type": "stream",
     "text": [
      "Kernel matrix computation took 342.19 seconds.\n",
      "(704, 1)\n",
      "(176, 1)\n",
      "Quantum SVM Accuracy: 0.84\n",
      "[[68 10  0]\n",
      " [ 8 80  0]\n",
      " [ 1  9  0]]\n"
     ]
    }
   ],
   "execution_count": 29
  },
  {
   "cell_type": "markdown",
   "source": [
    "## Quantum SVM in parallel (optimised)"
   ],
   "metadata": {
    "id": "Un1vAmwawvXe"
   }
  },
  {
   "cell_type": "markdown",
   "source": [
    "### Quantum Kernel"
   ],
   "metadata": {
    "id": "PmvGs95pxKHH"
   }
  },
  {
   "cell_type": "code",
   "source": [
    "n_qubits = len(X_train[0])\n",
    "dev_kernel = qml.device(\"default.qubit\", wires=n_qubits)\n",
    "\n",
    "projector_matrix = np.zeros((2 ** n_qubits, 2 ** n_qubits))\n",
    "projector_matrix[0, 0] = 1\n",
    "\n",
    "@qml.qnode(dev_kernel)\n",
    "def kernel(x1, x2):\n",
    "    AngleEmbedding(x1, wires=range(n_qubits))\n",
    "    qml.adjoint(AngleEmbedding)(x2, wires=range(n_qubits))\n",
    "    return qml.expval(qml.Hermitian(projector_matrix, wires=range(n_qubits)))\n",
    "\n",
    "# Helper function to compute the kernel for each pair (a, b)\n",
    "def kernel_for_pair(a, b):\n",
    "    return kernel(a, b)\n",
    "\n",
    "# Parallel Kernel Matrix Computation\n",
    "def kernel_matrix(A, B):\n",
    "    start_time = time.time()\n",
    "    kernel_values = Parallel(n_jobs=-1, backend='loky')(\n",
    "        delayed(kernel_for_pair)(a, b) for a in A for b in B\n",
    "    )\n",
    "    end_time = time.time()\n",
    "    elapsed_time = end_time - start_time\n",
    "    print(f\"Kernel matrix computation took {elapsed_time:.2f} seconds.\")\n",
    "    return np.array(kernel_values).reshape(len(A), len(B))\n",
    "\n",
    "# Draw the circuit\n",
    "fig, ax = qml.draw_mpl(kernel, decimals=2, wire_order=range(n_qubits), show_all_wires=True)(X_train[0], X_train[1])\n",
    "plt.show()"
   ],
   "metadata": {
    "colab": {
     "base_uri": "https://localhost:8080/",
     "height": 556
    },
    "id": "_T9qPSDhhlIC",
    "outputId": "39467f90-238d-4248-f9bb-c5736f75c2bb",
    "ExecuteTime": {
     "end_time": "2024-11-08T09:50:41.644818Z",
     "start_time": "2024-11-08T09:50:41.496040Z"
    }
   },
   "outputs": [
    {
     "data": {
      "text/plain": [
       "<Figure size 500x500 with 1 Axes>"
      ],
      "image/png": "[encoded data removed]"
     },
     "metadata": {},
     "output_type": "display_data"
    }
   ],
   "execution_count": 30
  },
  {
   "cell_type": "markdown",
   "source": [
    "### Training"
   ],
   "metadata": {
    "id": "Rw3JK3-dxMxW"
   }
  },
  {
   "cell_type": "code",
   "source": [
    "# Train Quantum SVM using the precomputed kernel\n",
    "precomputed_kernel_train = kernel_matrix(X_train, X_train)\n",
    "svm_q = SVC(kernel='precomputed').fit(precomputed_kernel_train, y_train)"
   ],
   "metadata": {
    "colab": {
     "base_uri": "https://localhost:8080/"
    },
    "id": "M1YHUKvrnR03",
    "outputId": "83f4b443-8532-4d56-acdd-bb107b4dc1c7",
    "ExecuteTime": {
     "end_time": "2024-11-08T09:57:38.574102Z",
     "start_time": "2024-11-08T09:50:41.867848Z"
    }
   },
   "outputs": [
    {
     "name": "stdout",
     "output_type": "stream",
     "text": [
      "Kernel matrix computation took 415.25 seconds.\n"
     ]
    },
    {
     "name": "stderr",
     "output_type": "stream",
     "text": [
      "/home/24700746/.local/lib/python3.10/site-packages/sklearn/utils/validation.py:1339: DataConversionWarning: A column-vector y was passed when a 1d array was expected. Please change the shape of y to (n_samples, ), for example using ravel().\n",
      "  y = column_or_1d(y, warn=True)\n"
     ]
    }
   ],
   "execution_count": 31
  },
  {
   "cell_type": "markdown",
   "source": [
    "### Testing"
   ],
   "metadata": {
    "id": "WpvVQtbHxO-R"
   }
  },
  {
   "cell_type": "code",
   "source": [
    "# Test Quantum SVM and Evaluate Accuracy\n",
    "kernel_matrix_test = kernel_matrix(X_test, X_train)\n",
    "predictions_q = svm_q.predict(kernel_matrix_test)\n",
    "quantum_accuracy = accuracy_score(y_test, predictions_q)\n",
    "print(f\"Quantum SVM Accuracy: {quantum_accuracy:.2f}\")"
   ],
   "metadata": {
    "colab": {
     "base_uri": "https://localhost:8080/"
    },
    "id": "yEhhKk7eiYTS",
    "outputId": "6daeb3ca-8e4e-4404-d77a-5b3695552ece",
    "ExecuteTime": {
     "end_time": "2024-11-08T09:59:20.616847Z",
     "start_time": "2024-11-08T09:57:38.640505Z"
    }
   },
   "outputs": [
    {
     "name": "stdout",
     "output_type": "stream",
     "text": [
      "Kernel matrix computation took 101.61 seconds.\n",
      "Quantum SVM Accuracy: 0.84\n"
     ]
    }
   ],
   "execution_count": 32
  }
 ]
}
